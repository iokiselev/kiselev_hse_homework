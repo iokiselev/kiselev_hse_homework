{
 "cells": [
  {
   "cell_type": "markdown",
   "id": "5fb0bb0b",
   "metadata": {},
   "source": [
    "ЗАДАНИЕ №1"
   ]
  },
  {
   "cell_type": "code",
   "execution_count": null,
   "id": "ff02ef8d",
   "metadata": {},
   "outputs": [],
   "source": [
    "year = int(input('Введите год: '))\n",
    "\n",
    "if (year % 4 == 0 and year % 100 != 0) or year % 400 == 0:\n",
    "\n",
    "  print(\"Високосный год\")\n",
    "\n",
    "else:\n",
    "\n",
    "  print(\"Обычный год\")"
   ]
  },
  {
   "cell_type": "markdown",
   "id": "72661afb",
   "metadata": {},
   "source": [
    "ЗАДАНИЕ №2"
   ]
  },
  {
   "cell_type": "code",
   "execution_count": 4,
   "id": "16f5001d",
   "metadata": {},
   "outputs": [
    {
     "name": "stdout",
     "output_type": "stream",
     "text": [
      "Введите номер проездного:132231\n",
      "Счастливый билет.\n"
     ]
    }
   ],
   "source": [
    "number = int(input('Введите номер проездного:'))\n",
    "first_sum = 0\n",
    "second_sum = 0\n",
    "first_digit = number // 100000\n",
    "second_digit = number // 10000 % 10\n",
    "third_digit = number // 1000 % 10\n",
    "fourth_digit = number // 100 % 10\n",
    "fifth_digit = number // 10 % 10\n",
    "sixth_digit = number % 10\n",
    "first_sum += first_digit + second_digit + third_digit\n",
    "second_sum += fourth_digit + fifth_digit + sixth_digit\n",
    "if first_sum == second_sum:\n",
    "  print(\"Счастливый билет.\")\n",
    "else:\n",
    "  print(\"Несчастливый билет.\")"
   ]
  },
  {
   "cell_type": "code",
   "execution_count": null,
   "id": "5e63064d",
   "metadata": {},
   "outputs": [],
   "source": []
  },
  {
   "cell_type": "code",
   "execution_count": null,
   "id": "795a1568",
   "metadata": {},
   "outputs": [],
   "source": []
  }
 ],
 "metadata": {
  "kernelspec": {
   "display_name": "Python 3 (ipykernel)",
   "language": "python",
   "name": "python3"
  },
  "language_info": {
   "codemirror_mode": {
    "name": "ipython",
    "version": 3
   },
   "file_extension": ".py",
   "mimetype": "text/x-python",
   "name": "python",
   "nbconvert_exporter": "python",
   "pygments_lexer": "ipython3",
   "version": "3.9.12"
  }
 },
 "nbformat": 4,
 "nbformat_minor": 5
}
