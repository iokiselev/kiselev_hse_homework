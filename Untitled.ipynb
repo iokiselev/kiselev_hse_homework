{
 "cells": [
  {
   "cell_type": "markdown",
   "id": "03a8fa4a",
   "metadata": {},
   "source": [
    "## Задание №1"
   ]
  },
  {
   "cell_type": "code",
   "execution_count": null,
   "id": "f40c6166",
   "metadata": {},
   "outputs": [],
   "source": [
    "import numpy as np\n",
    "\n",
    "def scale_data(data):\n",
    "  # subtract the mean of each column\n",
    "  data = data - np.mean(data, axis=0)\n",
    "  # divide by the standard deviation of each column\n",
    "  data = data / np.std(data, axis=0)\n",
    "  return data"
   ]
  },
  {
   "cell_type": "code",
   "execution_count": null,
   "id": "4e8fa7aa",
   "metadata": {},
   "outputs": [],
   "source": [
    "import numpy as np\n",
    "\n",
    "data = np.array([[1, 2, 3], [4, 5, 6], [7, 8, 9]])\n",
    "scaled_data = scale_data(data)\n",
    "\n",
    "print(scaled_data)"
   ]
  },
  {
   "cell_type": "markdown",
   "id": "dbb883de",
   "metadata": {},
   "source": [
    "## Задание 2"
   ]
  },
  {
   "cell_type": "code",
   "execution_count": 7,
   "id": "76bc22da",
   "metadata": {},
   "outputs": [],
   "source": [
    "import numpy as np\n",
    "\n",
    "def get_corcoefs(A):\n",
    "  # Calculate mean and standard deviation of each column\n",
    "  mean = np.mean(A, axis=0)\n",
    "  std = np.std(A, axis=0)\n",
    "  # Standardize the matrix by subtracting the mean and dividing by the standard deviation\n",
    "  A_standardized = (A - mean) / std\n",
    "  # Calculate the correlation matrix\n",
    "  corr_matrix = np.corrcoef(A_standardized, rowvar=False)\n",
    "  # Select the upper triangle of the matrix (excluding the diagonal)\n",
    "  upper_triangle = np.triu(corr_matrix, k=1)\n",
    "  # Flatten the upper triangle into a 1D vector\n",
    "  corr_coefs = upper_triangle.flatten()\n",
    "  return corr_coefs"
   ]
  },
  {
   "cell_type": "code",
   "execution_count": 8,
   "id": "32f97fc2",
   "metadata": {},
   "outputs": [
    {
     "data": {
      "text/plain": [
       "array([ 0.        ,  0.67428772,  0.23088898, -0.04560285,  0.00911183,\n",
       "        0.        ,  0.        ,  0.20712955, -0.1094108 , -0.38402827,\n",
       "        0.        ,  0.        ,  0.        , -0.47628586, -0.04198495,\n",
       "        0.        ,  0.        ,  0.        ,  0.        , -0.26701662,\n",
       "        0.        ,  0.        ,  0.        ,  0.        ,  0.        ])"
      ]
     },
     "execution_count": 8,
     "metadata": {},
     "output_type": "execute_result"
    }
   ],
   "source": [
    "A = np.array([[0, 2, 4, 1, 2],\n",
    "       [6, 5, 6, 1, 7],\n",
    "       [4, 4, 2, 7, 7],\n",
    "       [1, 4, 2, 8, 2],\n",
    "       [4, 3, 1, 4, 6],\n",
    "       [3, 3, 9, 9, 1],\n",
    "       [5, 1, 1, 9, 2],\n",
    "       [0, 0, 0, 9, 5],\n",
    "       [5, 3, 6, 4, 9],\n",
    "       [8, 8, 2, 7, 2],\n",
    "       [7, 9, 7, 4, 1],\n",
    "       [3, 5, 7, 0, 2],\n",
    "       [0, 2, 2, 5, 5],\n",
    "       [4, 8, 0, 9, 0]])\n",
    "get_corcoefs(A)\n"
   ]
  },
  {
   "cell_type": "markdown",
   "id": "4f68568b",
   "metadata": {},
   "source": [
    "## Задание 3"
   ]
  },
  {
   "cell_type": "code",
   "execution_count": 26,
   "id": "b686e287",
   "metadata": {},
   "outputs": [
    {
     "name": "stdout",
     "output_type": "stream",
     "text": [
      "[[4. 0. 0. 0. 0. 0. 0. 0. 0. 0.]\n",
      " [0. 0. 5. 0. 0. 9. 0. 0. 0. 0.]\n",
      " [0. 0. 0. 0. 0. 0. 0. 0. 0. 0.]\n",
      " [0. 0. 0. 0. 6. 0. 0. 0. 0. 0.]\n",
      " [6. 0. 0. 0. 0. 0. 0. 0. 0. 0.]\n",
      " [0. 0. 0. 0. 0. 0. 0. 0. 0. 0.]\n",
      " [0. 0. 0. 0. 0. 3. 0. 0. 6. 0.]\n",
      " [0. 0. 0. 0. 0. 5. 0. 0. 0. 0.]\n",
      " [0. 0. 0. 0. 0. 0. 0. 0. 3. 0.]\n",
      " [0. 0. 0. 0. 0. 0. 0. 0. 0. 0.]]\n",
      "[1 3 6 7 9]\n"
     ]
    }
   ],
   "source": [
    "import numpy as np\n",
    "\n",
    "def random_matrix():\n",
    "  # Initialize a 10x10 matrix of zeros\n",
    "  matrix = np.zeros((10,10))\n",
    "  \n",
    "  # Randomly distribute 9 numbers in the matrix\n",
    "  for i in range(9):\n",
    "    matrix[np.random.randint(0,10), np.random.randint(0,10)] = np.random.randint(0,10)\n",
    "  \n",
    "  # Find column indices that contain only zeros\n",
    "  zero_columns = np.where(~matrix.any(axis=0))[0]\n",
    "  \n",
    "  # Return the matrix and the zero columns\n",
    "  return matrix, zero_columns\n",
    "\n",
    "matrix, zero_columns = random_matrix()\n",
    "print(matrix)\n",
    "print(zero_columns)"
   ]
  }
 ],
 "metadata": {
  "kernelspec": {
   "display_name": "Python 3 (ipykernel)",
   "language": "python",
   "name": "python3"
  },
  "language_info": {
   "codemirror_mode": {
    "name": "ipython",
    "version": 3
   },
   "file_extension": ".py",
   "mimetype": "text/x-python",
   "name": "python",
   "nbconvert_exporter": "python",
   "pygments_lexer": "ipython3",
   "version": "3.9.13"
  }
 },
 "nbformat": 4,
 "nbformat_minor": 5
}
