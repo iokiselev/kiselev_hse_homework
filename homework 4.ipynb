{
 "cells": [
  {
   "cell_type": "code",
   "execution_count": 1,
   "id": "41fc30e6",
   "metadata": {},
   "outputs": [],
   "source": [
    "documents = [\n",
    " {'type': 'passport', 'number': '2207 876234', 'name': 'Василий Гупкин'},\n",
    " {'type': 'invoice', 'number': '11-2', 'name': 'Геннадий Покемонов'},\n",
    " {'type': 'insurance', 'number': '10006', 'name': 'Аристарх Павлов'}\n",
    "]"
   ]
  },
  {
   "cell_type": "code",
   "execution_count": 2,
   "id": "5b5ec7a1",
   "metadata": {},
   "outputs": [],
   "source": [
    "directories = {\n",
    " '1': ['2207 876234', '11-2'],\n",
    " '2': ['10006'],\n",
    " '3': []\n",
    "}\n"
   ]
  },
  {
   "cell_type": "code",
   "execution_count": 3,
   "id": "c0789bf8",
   "metadata": {},
   "outputs": [],
   "source": [
    "def doc_owner(number_doc):\n",
    "    \"\"\"\n",
    "    Функция возвращает по номеру документа данные о его владельце\n",
    "    \"\"\"\n",
    "    owner_name = ''\n",
    "    for row in documents:\n",
    "        if row['number'] == number_doc:\n",
    "            owner_name = 'Владелец документа: ' + row['name']\n",
    "    if owner_name == '': \n",
    "        owner_name = 'Владелец документа: владелец не найден'\n",
    "    return owner_name"
   ]
  },
  {
   "cell_type": "code",
   "execution_count": 4,
   "id": "e0cbbfb8",
   "metadata": {},
   "outputs": [],
   "source": [
    "def doc_dir(number_doc):\n",
    "    \"\"\"\n",
    "    Функция возвращает по номеру документа данные о месте хранения\n",
    "    \"\"\"\n",
    "    shelf = ''\n",
    "    for item, values in directories.items():\n",
    "        if number_doc in values:\n",
    "            shelf = 'Документ хранится на полке: ' + item\n",
    "    if shelf == '':\n",
    "        shelf='Документ не найден'\n",
    "    return shelf"
   ]
  },
  {
   "cell_type": "code",
   "execution_count": 5,
   "id": "5958c8cd",
   "metadata": {},
   "outputs": [],
   "source": [
    "def main():\n",
    "    \"\"\"\n",
    "    Основная функция автоматизации работы секретаря\n",
    "    \"\"\"\n",
    "    a = 0\n",
    "    while a < 1:\n",
    "        command_input=input('Введите команду: \\n')\n",
    "        if command_input == 'p':\n",
    "            number_input=input('Введите номер документа: \\n')\n",
    "            print(owner(number_input))\n",
    "        elif command_input == 's':\n",
    "            number_input=input('Введите номер документа: \\n')\n",
    "            print(doc_dir(number_input))\n",
    "        elif command_input == 'q':\n",
    "            print(\"Выход из программы\")\n",
    "            break\n",
    "        else:\n",
    "            print('Нет такой команды')"
   ]
  },
  {
   "cell_type": "code",
   "execution_count": 6,
   "id": "ec6dc7d8",
   "metadata": {},
   "outputs": [
    {
     "name": "stdout",
     "output_type": "stream",
     "text": [
      "Введите команду: \n",
      "p\n",
      "Введите номер документа: \n",
      "10006\n",
      "Владелец документа: Аристарх Павлов\n",
      "Введите команду: \n",
      "p\n",
      "Введите номер документа: \n",
      "1001\n",
      "Владелец документа: владелец не найден\n",
      "Введите команду: \n",
      "s\n",
      "Введите номер документа: \n",
      "10006\n",
      "Документ хранится на полке: 2\n",
      "Введите команду: \n",
      "s\n",
      "Введите номер документа: \n",
      "1001\n",
      "Документ не найден\n",
      "Введите команду: \n",
      "q\n",
      "Выход из программы\n"
     ]
    }
   ],
   "source": [
    "main()"
   ]
  }
 ],
 "metadata": {
  "kernelspec": {
   "display_name": "Python 3 (ipykernel)",
   "language": "python",
   "name": "python3"
  },
  "language_info": {
   "codemirror_mode": {
    "name": "ipython",
    "version": 3
   },
   "file_extension": ".py",
   "mimetype": "text/x-python",
   "name": "python",
   "nbconvert_exporter": "python",
   "pygments_lexer": "ipython3",
   "version": "3.10.6"
  }
 },
 "nbformat": 4,
 "nbformat_minor": 5
}
