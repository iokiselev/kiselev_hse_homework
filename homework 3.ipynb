{
 "cells": [
  {
   "cell_type": "markdown",
   "id": "63794a29",
   "metadata": {},
   "source": [
    "# Задание 1"
   ]
  },
  {
   "cell_type": "code",
   "execution_count": 3,
   "id": "166bb57f",
   "metadata": {},
   "outputs": [],
   "source": [
    "ids = {'user1': [213, 213, 213, 15, 213], \n",
    "       'user2': [54, 54, 119, 119, 119], \n",
    "       'user3': [213, 98, 98, 35]}"
   ]
  },
  {
   "cell_type": "code",
   "execution_count": 16,
   "id": "08b18e2c",
   "metadata": {},
   "outputs": [],
   "source": [
    "geo_set = set()\n",
    "for geo in ids.values():\n",
    "    geo_set = geo_set.union(set(geo))"
   ]
  },
  {
   "cell_type": "code",
   "execution_count": 19,
   "id": "83ef5b20",
   "metadata": {},
   "outputs": [
    {
     "name": "stdout",
     "output_type": "stream",
     "text": [
      "Результат: {98, 35, 213, 54, 119, 15}\n"
     ]
    }
   ],
   "source": [
    "print(\"Результат:\", geo_set)"
   ]
  },
  {
   "cell_type": "markdown",
   "id": "2ed9c990",
   "metadata": {},
   "source": [
    "# Задание 2"
   ]
  },
  {
   "cell_type": "code",
   "execution_count": 22,
   "id": "d447d519",
   "metadata": {},
   "outputs": [],
   "source": [
    "queries = [\n",
    "    'смотреть сериалы онлайн',\n",
    "    'новости спорта',\n",
    "    'афиша кино',\n",
    "    'курс доллара',\n",
    "    'сериалы этим летом',\n",
    "    'курс по питону',\n",
    "    'сериалы про спорт',\n",
    "]"
   ]
  },
  {
   "cell_type": "code",
   "execution_count": 40,
   "id": "d2b70089",
   "metadata": {},
   "outputs": [
    {
     "name": "stdout",
     "output_type": "stream",
     "text": [
      "Поисковых запросов, содержащих 2 слов(a): 42.86%\n",
      "Поисковых запросов, содержащих 3 слов(a): 57.14%\n"
     ]
    }
   ],
   "source": [
    "my_dict = dict()\n",
    "for query in queries:\n",
    "    query_len = len(query.split(' '))\n",
    "    if query_len in my_dict:\n",
    "        my_dict[query_len] += 1\n",
    "    else:\n",
    "        my_dict[query_len] = 1\n",
    "\n",
    "queries_count = len(queries)\n",
    "for query_len, query_count in sorted(my_dict.items()):\n",
    "    print('Поисковых запросов, содержащих %d слов(a): %.2f%%' % (query_len, 100 * query_count / queries_count))"
   ]
  },
  {
   "cell_type": "markdown",
   "id": "a7d1ed56",
   "metadata": {},
   "source": [
    "# Задание 3"
   ]
  },
  {
   "cell_type": "code",
   "execution_count": 69,
   "id": "e3df88b4",
   "metadata": {},
   "outputs": [],
   "source": [
    "results = {\n",
    "    'vk': {'revenue': 103, 'cost': 98},\n",
    "    'yandex': {'revenue': 179, 'cost': 153},\n",
    "    'facebook': {'revenue': 103, 'cost': 110},\n",
    "    'adwords': {'revenue': 35, 'cost': 34},\n",
    "    'twitter': {'revenue': 11, 'cost': 24},\n",
    "}"
   ]
  },
  {
   "cell_type": "code",
   "execution_count": 105,
   "id": "9035bf3a",
   "metadata": {},
   "outputs": [
    {
     "name": "stdout",
     "output_type": "stream",
     "text": [
      "Company: vk ROI: 5.1 cost: 98 Revenue: 103\n",
      "Company: yandex ROI: 16.99 cost: 153 Revenue: 179\n",
      "Company: facebook ROI: -6.36 cost: 110 Revenue: 103\n",
      "Company: adwords ROI: 2.94 cost: 34 Revenue: 35\n",
      "Company: twitter ROI: -54.17 cost: 24 Revenue: 11\n"
     ]
    }
   ],
   "source": [
    "for key, value in results.items():\n",
    "    value['ROI'] = round(((value['revenue'] / value['cost']) - 1)*100 , 2)\n",
    "    print(\"Company:\", key, \"ROI:\", value['ROI'], \"cost:\", value['cost'], \"Revenue:\", value['revenue'])"
   ]
  },
  {
   "cell_type": "markdown",
   "id": "cb6bfe0d",
   "metadata": {},
   "source": [
    "# Задание 4"
   ]
  },
  {
   "cell_type": "code",
   "execution_count": 107,
   "id": "c1d89bd4",
   "metadata": {},
   "outputs": [
    {
     "name": "stdout",
     "output_type": "stream",
     "text": [
      "facebook 55\n",
      "yandex 115\n",
      "vk 120\n",
      "google 99\n",
      "email 42\n",
      "ok 98\n"
     ]
    }
   ],
   "source": [
    "stats = {'facebook': 55, 'yandex': 115, 'vk': 120, 'google': 99, 'email': 42, 'ok': 98}"
   ]
  },
  {
   "cell_type": "code",
   "execution_count": 136,
   "id": "d1ab7d22",
   "metadata": {},
   "outputs": [
    {
     "name": "stdout",
     "output_type": "stream",
     "text": [
      "Максимальный объем продаж на рекламном канале: vk\n"
     ]
    }
   ],
   "source": [
    "max_result = 0\n",
    "for network, value in stats.items():\n",
    "    if value == max(list(stats.values())):\n",
    "        print(\"Максимальный объем продаж на рекламном канале:\", network)"
   ]
  },
  {
   "cell_type": "markdown",
   "id": "460ae32e",
   "metadata": {},
   "source": [
    "# Задание 5"
   ]
  },
  {
   "cell_type": "code",
   "execution_count": 147,
   "id": "c1532d25",
   "metadata": {},
   "outputs": [
    {
     "name": "stdout",
     "output_type": "stream",
     "text": [
      "{'a': {'b': {'c': {'d': {'e': 'f'}}}}}\n"
     ]
    }
   ],
   "source": [
    "my_list = ['a', 'b', 'c', 'd', 'e', 'f']\n",
    "my_dict = my_list[-1]\n",
    "for n in my_list[-2::-1]:\n",
    "  my_dict = {n:my_dict}\n",
    "print(my_dict)"
   ]
  },
  {
   "cell_type": "markdown",
   "id": "9cd5f3f4",
   "metadata": {},
   "source": [
    "# Задание 6"
   ]
  },
  {
   "cell_type": "code",
   "execution_count": 165,
   "id": "cda5e1dc",
   "metadata": {},
   "outputs": [],
   "source": [
    "cook_book = {\n",
    "'салат': [\n",
    "{'ingridient_name': 'сыр', 'quantity': 50, 'measure': 'гр'},\n",
    "{'ingridient_name': 'томаты', 'quantity': 2, 'measure': 'шт'},\n",
    "{'ingridient_name': 'огурцы', 'quantity': 20, 'measure': 'гр'},\n",
    "{'ingridient_name': 'маслины', 'quantity': 10, 'measure': 'гр'},\n",
    "{'ingridient_name': 'оливковое масло', 'quantity': 20, 'measure': 'мл'},\n",
    "{'ingridient_name': 'салат', 'quantity': 10, 'measure': 'гр'},\n",
    "{'ingridient_name': 'перец', 'quantity': 20, 'measure': 'гр'}\n",
    "],\n",
    "'пицца': [\n",
    "{'ingridient_name': 'сыр', 'quantity': 20, 'measure': 'гр'},\n",
    "{'ingridient_name': 'колбаса', 'quantity': 30, 'measure': 'гр'},\n",
    "{'ingridient_name': 'бекон', 'quantity': 30, 'measure': 'гр'},\n",
    "{'ingridient_name': 'оливки', 'quantity': 10, 'measure': 'гр'},\n",
    "{'ingridient_name': 'томаты', 'quantity': 20, 'measure': 'гр'},\n",
    "{'ingridient_name': 'тесто', 'quantity': 100, 'measure': 'гр'},\n",
    "],\n",
    "'лимонад': [\n",
    "{'ingridient_name': 'лимон', 'quantity': 1, 'measure': 'шт'},\n",
    "{'ingridient_name': 'вода', 'quantity': 200, 'measure': 'мл'},\n",
    "{'ingridient_name': 'сахар', 'quantity': 10, 'measure': 'гр'},\n",
    "{'ingridient_name': 'лайм', 'quantity': 20, 'measure': 'гр'},\n",
    "]\n",
    "}\n",
    "\n"
   ]
  },
  {
   "cell_type": "code",
   "execution_count": 166,
   "id": "d4ee2b0f",
   "metadata": {},
   "outputs": [
    {
     "name": "stdout",
     "output_type": "stream",
     "text": [
      "Введите количество порций:5\n",
      "Сыр: 350 гр\n",
      "Томаты: 10 шт\n",
      "Огурцы: 100 гр\n",
      "Маслины: 50 гр\n",
      "Оливковое масло: 100 мл\n",
      "Салат: 50 гр\n",
      "Перец: 100 гр\n",
      "Колбаса: 150 гр\n",
      "Бекон: 150 гр\n",
      "Оливки: 50 гр\n",
      "Томаты: 100 гр\n",
      "Тесто: 500 гр\n",
      "Лимон: 5 шт\n",
      "Вода: 1000 мл\n",
      "Сахар: 50 гр\n",
      "Лайм: 100 гр\n"
     ]
    }
   ],
   "source": [
    "my_dict = {}\n",
    "\n",
    "person = int(input('Введите количество порций:'))\n",
    "\n",
    "for item in cook_book.items():\n",
    "    for ingredient in item[1]:\n",
    "        ingredient_measure = ingredient['ingridient_name'].replace(' ','_') + ' ' + ingredient['measure']\n",
    "        quantity = ingredient['quantity']\n",
    "        if ingredient_measure in my_dict:\n",
    "            my_dict[ingredient_measure] += quantity * person\n",
    "        else:\n",
    "            my_dict.setdefault(ingredient_measure, quantity * person)\n",
    "            \n",
    "for ing, values in my_dict.items():\n",
    "    name = ing.split()\n",
    "    print(name[0].capitalize().replace('_',' ') + ':', values, name[1])"
   ]
  }
 ],
 "metadata": {
  "kernelspec": {
   "display_name": "Python 3 (ipykernel)",
   "language": "python",
   "name": "python3"
  },
  "language_info": {
   "codemirror_mode": {
    "name": "ipython",
    "version": 3
   },
   "file_extension": ".py",
   "mimetype": "text/x-python",
   "name": "python",
   "nbconvert_exporter": "python",
   "pygments_lexer": "ipython3",
   "version": "3.9.12"
  }
 },
 "nbformat": 4,
 "nbformat_minor": 5
}
