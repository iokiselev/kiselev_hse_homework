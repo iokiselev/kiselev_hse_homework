{
 "cells": [
  {
   "cell_type": "code",
   "execution_count": 3,
   "metadata": {},
   "outputs": [
    {
     "name": "stdout",
     "output_type": "stream",
     "text": [
      "Requirement already satisfied: aiohttp in c:\\users\\ilya\\anaconda3\\lib\\site-packages (3.8.3)\n",
      "Requirement already satisfied: multidict<7.0,>=4.5 in c:\\users\\ilya\\anaconda3\\lib\\site-packages (from aiohttp) (6.0.3)\n",
      "Requirement already satisfied: attrs>=17.3.0 in c:\\users\\ilya\\anaconda3\\lib\\site-packages (from aiohttp) (21.4.0)\n",
      "Requirement already satisfied: charset-normalizer<3.0,>=2.0 in c:\\users\\ilya\\anaconda3\\lib\\site-packages (from aiohttp) (2.0.4)\n",
      "Requirement already satisfied: aiosignal>=1.1.2 in c:\\users\\ilya\\anaconda3\\lib\\site-packages (from aiohttp) (1.3.1)\n",
      "Requirement already satisfied: yarl<2.0,>=1.0 in c:\\users\\ilya\\anaconda3\\lib\\site-packages (from aiohttp) (1.8.2)\n",
      "Requirement already satisfied: frozenlist>=1.1.1 in c:\\users\\ilya\\anaconda3\\lib\\site-packages (from aiohttp) (1.3.3)\n",
      "Requirement already satisfied: async-timeout<5.0,>=4.0.0a3 in c:\\users\\ilya\\anaconda3\\lib\\site-packages (from aiohttp) (4.0.2)\n",
      "Requirement already satisfied: idna>=2.0 in c:\\users\\ilya\\anaconda3\\lib\\site-packages (from yarl<2.0,>=1.0->aiohttp) (3.3)\n"
     ]
    }
   ],
   "source": [
    "!pip install aiohttp\n",
    "import time\n",
    "import asyncio\n",
    "import aiohttp"
   ]
  },
  {
   "cell_type": "code",
   "execution_count": 4,
   "metadata": {},
   "outputs": [
    {
     "name": "stdout",
     "output_type": "stream",
     "text": [
      "[['https://www.jython.org', 'https://www.jython.org', 'https://www.jython.org', 'https://www.jython.org', 'https://www.jython.org', 'https://www.jython.org', 'https://www.jython.org', 'https://www.jython.org'], ['https://python.org/', 'https://python.org/', 'https://python.org/', 'https://python.org/', 'https://python.org/', 'https://python.org/', 'https://python.org/', 'https://python.org/']]\n"
     ]
    }
   ],
   "source": [
    "# создаю массив массивов с url\n",
    "sites = [ \"https://www.jython.org\", \"https://python.org/\", ] * 8\n",
    "# количество корутин\n",
    "coro_num = 2\n",
    "arr = []\n",
    "for i in range(0, coro_num):\n",
    "    arr.append([])\n",
    "for i in range(len(sites)):\n",
    "    arr[i%coro_num].append(sites[i])\n",
    "print(arr)"
   ]
  },
  {
   "cell_type": "code",
   "execution_count": 5,
   "metadata": {},
   "outputs": [],
   "source": [
    "# создаю функцию запроса из массива url\n",
    "async def scrape_text_len(urls, coro_id):\n",
    "    async with aiohttp.ClientSession() as session:\n",
    "        for url in urls:\n",
    "            async with session.get(url) as response:\n",
    "                resp = await response.text()\n",
    "                print(f\"Read {len(resp)} from {url} from coroutine {coro_id}\")\n"
   ]
  },
  {
   "cell_type": "code",
   "execution_count": 6,
   "metadata": {},
   "outputs": [],
   "source": [
    "# создаю функцию создания массива тасок\n",
    "# в каждой корутине своя сессия для запроса\n",
    "def tasks_for_scrape(arr_with_urls):\n",
    "    tasks = []\n",
    "    for idx, urls in enumerate(arr_with_urls):\n",
    "        task = asyncio.create_task(scrape_text_len(urls, idx+1))\n",
    "        tasks.append(task)\n",
    "    return tasks"
   ]
  },
  {
   "cell_type": "code",
   "execution_count": 7,
   "metadata": {},
   "outputs": [
    {
     "name": "stdout",
     "output_type": "stream",
     "text": [
      "Read 10780 from https://www.jython.org from coroutine 1\n",
      "Read 10780 from https://www.jython.org from coroutine 1\n",
      "Read 10780 from https://www.jython.org from coroutine 1\n",
      "Read 10780 from https://www.jython.org from coroutine 1\n",
      "Read 10780 from https://www.jython.org from coroutine 1\n",
      "Read 10780 from https://www.jython.org from coroutine 1\n",
      "Read 10780 from https://www.jython.org from coroutine 1\n",
      "Read 50542 from https://python.org/ from coroutine 2\n",
      "Read 10780 from https://www.jython.org from coroutine 1\n",
      "Read 50542 from https://python.org/ from coroutine 2\n",
      "Read 50542 from https://python.org/ from coroutine 2\n",
      "Read 50542 from https://python.org/ from coroutine 2\n",
      "Read 50542 from https://python.org/ from coroutine 2\n",
      "Read 50542 from https://python.org/ from coroutine 2\n",
      "Read 50542 from https://python.org/ from coroutine 2\n",
      "Read 50542 from https://python.org/ from coroutine 2\n",
      "общее время выполнения: 1.88 секунд.\n"
     ]
    }
   ],
   "source": [
    "async def main():\n",
    "    start_time = time.time()\n",
    "    tasks_arr = tasks_for_scrape(arr)\n",
    "    await asyncio.gather(*tasks_arr)\n",
    "    time_difference = time.time() - start_time\n",
    "    print(f\"общее время выполнения: %.2f секунд.\" % time_difference)\n",
    "await main()"
   ]
  }
 ],
 "metadata": {
  "kernelspec": {
   "display_name": "Python 3 (ipykernel)",
   "language": "python",
   "name": "python3"
  },
  "language_info": {
   "codemirror_mode": {
    "name": "ipython",
    "version": 3
   },
   "file_extension": ".py",
   "mimetype": "text/x-python",
   "name": "python",
   "nbconvert_exporter": "python",
   "pygments_lexer": "ipython3",
   "version": "3.9.13"
  }
 },
 "nbformat": 4,
 "nbformat_minor": 1
}
